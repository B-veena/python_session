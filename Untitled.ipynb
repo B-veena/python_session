{
 "cells": [
  {
   "cell_type": "code",
   "execution_count": null,
   "id": "da9f0de1",
   "metadata": {},
   "outputs": [],
   "source": [
    "number=eval(input(\"enter a number:\"))\n",
    "square=number*number\n",
    "print(\"the square of {} is{}\".format(number,number))"
   ]
  },
  {
   "cell_type": "code",
   "execution_count": null,
   "id": "601a2c1b",
   "metadata": {},
   "outputs": [],
   "source": [
    "number=eval(input(\"enter a number\n"
   ]
  },
  {
   "cell_type": "code",
   "execution_count": null,
   "id": "5b525134",
   "metadata": {},
   "outputs": [],
   "source": [
    "number=200\n",
    "type(number)\n"
   ]
  },
  {
   "cell_type": "code",
   "execution_count": null,
   "id": "840630d5",
   "metadata": {},
   "outputs": [],
   "source": [
    "number=100\n",
    "float(number)"
   ]
  },
  {
   "cell_type": "code",
   "execution_count": null,
   "id": "a7940867",
   "metadata": {},
   "outputs": [],
   "source": [
    "string_number=100\n",
    "string_number"
   ]
  },
  {
   "cell_type": "code",
   "execution_count": null,
   "id": "1898f089",
   "metadata": {
    "scrolled": true
   },
   "outputs": [],
   "source": [
    "bool(number)"
   ]
  },
  {
   "cell_type": "code",
   "execution_count": null,
   "id": "4367d8f6",
   "metadata": {},
   "outputs": [],
   "source": [
    "bool(-200)\n"
   ]
  },
  {
   "cell_type": "code",
   "execution_count": null,
   "id": "b3435b20",
   "metadata": {},
   "outputs": [],
   "source": [
    "bool(number)"
   ]
  },
  {
   "cell_type": "code",
   "execution_count": null,
   "id": "b4eb9c4c",
   "metadata": {},
   "outputs": [],
   "source": [
    "a=200\n",
    "complex(a)"
   ]
  },
  {
   "cell_type": "code",
   "execution_count": null,
   "id": "3179ca2e",
   "metadata": {},
   "outputs": [],
   "source": [
    "c=20\n",
    "v=30\n",
    "complex(c,v)"
   ]
  },
  {
   "cell_type": "code",
   "execution_count": null,
   "id": "26df99fd",
   "metadata": {},
   "outputs": [],
   "source": [
    "number1=10.6\n",
    "type(number1)\n"
   ]
  },
  {
   "cell_type": "code",
   "execution_count": null,
   "id": "376460b3",
   "metadata": {},
   "outputs": [],
   "source": [
    "int_number=int(number1)"
   ]
  },
  {
   "cell_type": "code",
   "execution_count": null,
   "id": "2237554e",
   "metadata": {},
   "outputs": [],
   "source": [
    "str(nummber1)"
   ]
  },
  {
   "cell_type": "code",
   "execution_count": null,
   "id": "21882998",
   "metadata": {},
   "outputs": [],
   "source": [
    "a=10\n",
    "print(a)"
   ]
  },
  {
   "cell_type": "code",
   "execution_count": null,
   "id": "ea43f6a1",
   "metadata": {},
   "outputs": [],
   "source": [
    "a=10\n",
    "b=20\n",
    "print(a,b)"
   ]
  },
  {
   "cell_type": "code",
   "execution_count": null,
   "id": "bb604e87",
   "metadata": {},
   "outputs": [],
   "source": [
    "print(\"how are ypu\")"
   ]
  },
  {
   "cell_type": "code",
   "execution_count": null,
   "id": "af939fa2",
   "metadata": {},
   "outputs": [],
   "source": [
    "name=\"python\"\n",
    "print(name)"
   ]
  },
  {
   "cell_type": "code",
   "execution_count": null,
   "id": "b7b50b86",
   "metadata": {},
   "outputs": [],
   "source": [
    "name=\"python\"\n",
    "print(\"my name is\",name)"
   ]
  },
  {
   "cell_type": "code",
   "execution_count": null,
   "id": "4adb9e5a",
   "metadata": {},
   "outputs": [],
   "source": [
    "name=\"veena\"\n",
    "name2=\"sweety\"\n",
    "print(\"my name is\",name,name2)"
   ]
  },
  {
   "cell_type": "code",
   "execution_count": null,
   "id": "b776011b",
   "metadata": {},
   "outputs": [],
   "source": [
    "num1=30\n",
    "print(\"the value of num1 is\",num1)\n",
    "print(\"the value of num1 is 30\")"
   ]
  },
  {
   "cell_type": "code",
   "execution_count": null,
   "id": "86193431",
   "metadata": {},
   "outputs": [],
   "source": [
    "print(\"hi\",end='*')\n",
    "print(\" you\")"
   ]
  },
  {
   "cell_type": "code",
   "execution_count": null,
   "id": "de963067",
   "metadata": {},
   "outputs": [],
   "source": [
    "print(\"she is my\",end=' ')\n",
    "print(\"friend\")"
   ]
  },
  {
   "cell_type": "code",
   "execution_count": null,
   "id": "ac9f3033",
   "metadata": {},
   "outputs": [],
   "source": [
    "print(\"hi\",end=' ')\n",
    "print(\"how\",end=' ')\n",
    "print(\"are\",end=' ')\n",
    "print(\"you\")"
   ]
  },
  {
   "cell_type": "code",
   "execution_count": null,
   "id": "31acb7d5",
   "metadata": {},
   "outputs": [],
   "source": [
    "number1=100\n",
    "number2=300\n",
    "add=number1+number2\n",
    "print(add)"
   ]
  },
  {
   "cell_type": "code",
   "execution_count": null,
   "id": "5f178232",
   "metadata": {},
   "outputs": [],
   "source": [
    "a=10\n",
    "b=3\n",
    "mul=a*b\n",
    "print(mul)"
   ]
  },
  {
   "cell_type": "code",
   "execution_count": null,
   "id": "42ed9ab3",
   "metadata": {},
   "outputs": [],
   "source": [
    "a=10\n",
    "b=2\n",
    "mul=a*b\n",
    "print(\"the muliplication of{} and {} is {}\".format(a,b,mul))"
   ]
  },
  {
   "cell_type": "code",
   "execution_count": null,
   "id": "d08f424a",
   "metadata": {},
   "outputs": [],
   "source": [
    "num1=20\n",
    "num2=20\n",
    "add=num1+num2\n",
    "print(add)"
   ]
  },
  {
   "cell_type": "code",
   "execution_count": null,
   "id": "8369c0bd",
   "metadata": {},
   "outputs": [],
   "source": [
    "input(\"enter your name:\")\n"
   ]
  },
  {
   "cell_type": "code",
   "execution_count": null,
   "id": "2f2e671b",
   "metadata": {},
   "outputs": [],
   "source": [
    "200+39"
   ]
  },
  {
   "cell_type": "code",
   "execution_count": null,
   "id": "bb0c86dc",
   "metadata": {},
   "outputs": [],
   "source": [
    "num1=2.4\n",
    "num2=20\n",
    "add=(num1+num2)\n",
    "print(add)"
   ]
  },
  {
   "cell_type": "code",
   "execution_count": null,
   "id": "06c31a11",
   "metadata": {},
   "outputs": [],
   "source": [
    "num1=int(input(\"enter a number1\"))\n",
    "num1"
   ]
  },
  {
   "cell_type": "code",
   "execution_count": null,
   "id": "1a700a2b",
   "metadata": {},
   "outputs": [],
   "source": [
    " trynum1=eval(input(\"enter n1:\"))\n",
    "num2=eval(input(\"enter n2:\"))\n",
    "add=num1+num2\n",
    "sub=num1-num2\n",
    "mul=num1*num2\n",
    "print(\"the addition of {} and {} is {}\".format(num1,num2,add))\n",
    "print(\"the subraction of {} and {} is {}\".format(num1,num2,sub))\n",
    "print(\"the multiplication of {} and {} is {}\".format(num1,num2,mul))"
   ]
  },
  {
   "cell_type": "code",
   "execution_count": null,
   "id": "69923a50",
   "metadata": {},
   "outputs": [],
   "source": [
    "num1=100\n",
    "num2=200\n",
    "num3=400\n",
    "avg=(num1+num2+num3)/3\n",
    "print(avg)"
   ]
  },
  {
   "cell_type": "code",
   "execution_count": null,
   "id": "f6cc4b22",
   "metadata": {},
   "outputs": [],
   "source": [
    "bill_amount=eval(input(\"enter the bill amount:\"))\n",
    "tip_amount=eval(input(\"enter the tip amount:\"))\n",
    "total_amount=bill_amount+tip_amount\n",
    "print(total_amount)"
   ]
  },
  {
   "cell_type": "code",
   "execution_count": null,
   "id": "f7018e8a",
   "metadata": {},
   "outputs": [],
   "source": [
    "n1=eval(input(\"how many dollars you want to pay:\"))\n",
    "print(\"no dollars are accepted:\")\n",
    "print(\"then what will accepted\")\n",
    "print(\"only indian rupees\")\n",
    "n2=eval(input(\"one dollars equal to how many india rupees:\"))\n",
    "amount=n1*n2\n",
    "print(\"the total amount to pay {}\" .format(amount))\n",
    "print(\"manage: thank you:\")"
   ]
  },
  {
   "cell_type": "code",
   "execution_count": null,
   "id": "4f555314",
   "metadata": {},
   "outputs": [],
   "source": [
    "distance=eval(input(\"enter the distance:\"))\n",
    "fare=eval(input(\"enter the fare in rs:\"))\n",
    "total=distance*fare\n",
    "print(\"the total amount is:\",total)"
   ]
  },
  {
   "cell_type": "code",
   "execution_count": null,
   "id": "11ee72fb",
   "metadata": {},
   "outputs": [],
   "source": [
    "distance=eval(input(\"enter the distance:\"))\n",
    "fare=eval(input(\"enter the fare in rs:\"))\n",
    "total=distance*fare\n",
    "print(\"for {} km the fare is{}\".format(distance,fare,total),'.',sep='')"
   ]
  },
  {
   "cell_type": "code",
   "execution_count": null,
   "id": "ab8e040b",
   "metadata": {},
   "outputs": [],
   "source": [
    "basic_salary=eval(input(\"enter the basic salary of ramesh\"))\n",
    "dearness_allowance=eval(input(\" 40% of basic salary\"))\n",
    "rent_allowance=eval(input(\"20% of basic salary\"))\n",
    "calculate=(basic_salary+dearness_allowance+rent_allowance)\n",
    "print(\"basic salary of ramesh:\",calculate)           "
   ]
  },
  {
   "cell_type": "code",
   "execution_count": null,
   "id": "481832fa",
   "metadata": {},
   "outputs": [],
   "source": [
    "sub1=eval(input(\"marks obtained in english:\"))\n",
    "sub2=eval(input(\"marks obtained in maths:\"))\n",
    "sub3=eval(input(\"marks obtained in telugu:\"))\n",
    "sub4=eval(input(\"marks obtained in hindi:\"))\n",
    "sub5=eval(input(\"marks obtained in evs:\"))\n",
    "avrg=(sub1+sub2+sub3+sub4+sub5)/1000\n",
    "percentage=avrg/1000\n",
    "print(\"averg marks and percentage obtained by student\",avrg,percentage)\n"
   ]
  },
  {
   "cell_type": "code",
   "execution_count": null,
   "id": "7e4982e7",
   "metadata": {},
   "outputs": [],
   "source": [
    "num1=eval(input(\"enter four digit number:\"))\n",
    "print(\"reverse the given number\",reverce)"
   ]
  },
  {
   "cell_type": "code",
   "execution_count": 3,
   "id": "f18f08b3",
   "metadata": {},
   "outputs": [
    {
     "ename": "SyntaxError",
     "evalue": "invalid syntax (2568682637.py, line 1)",
     "output_type": "error",
     "traceback": [
      "\u001b[1;36m  Cell \u001b[1;32mIn[3], line 1\u001b[1;36m\u001b[0m\n\u001b[1;33m    import <string>\u001b[0m\n\u001b[1;37m           ^\u001b[0m\n\u001b[1;31mSyntaxError\u001b[0m\u001b[1;31m:\u001b[0m invalid syntax\n"
     ]
    }
   ],
   "source": [
    "dir(str)\n",
    "\n"
   ]
  },
  {
   "cell_type": "code",
   "execution_count": null,
   "id": "7e0bbc9f",
   "metadata": {},
   "outputs": [],
   "source": []
  }
 ],
 "metadata": {
  "kernelspec": {
   "display_name": "Python 3 (ipykernel)",
   "language": "python",
   "name": "python3"
  },
  "language_info": {
   "codemirror_mode": {
    "name": "ipython",
    "version": 3
   },
   "file_extension": ".py",
   "mimetype": "text/x-python",
   "name": "python",
   "nbconvert_exporter": "python",
   "pygments_lexer": "ipython3",
   "version": "3.11.5"
  }
 },
 "nbformat": 4,
 "nbformat_minor": 5
}
